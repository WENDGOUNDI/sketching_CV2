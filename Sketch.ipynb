{
 "cells": [
  {
   "cell_type": "code",
   "execution_count": 1,
   "id": "e91c0a8c",
   "metadata": {},
   "outputs": [],
   "source": [
    "#Libraries importations\n",
    "import cv2\n",
    "import numpy as np"
   ]
  },
  {
   "cell_type": "markdown",
   "id": "6579cbb9",
   "metadata": {},
   "source": [
    "# Sketch on images"
   ]
  },
  {
   "cell_type": "code",
   "execution_count": 2,
   "id": "808ab3da",
   "metadata": {},
   "outputs": [],
   "source": [
    "\n",
    "# Create the sketck function\n",
    "def sketch_image(image):\n",
    "    #Read the image\n",
    "    image = cv2.imread(image)\n",
    "    # Convert image to grayscale\n",
    "    image_gray = cv2.cvtColor(image, cv2.COLOR_BGR2GRAY)\n",
    "    \n",
    "    # Clean up image using Guassian Blur\n",
    "    image_gray_blur = cv2.GaussianBlur(image_gray, (5,5), 0)\n",
    "    \n",
    "    # Extract edges\n",
    "    image_canny_edges = cv2.Canny(image_gray_blur, 10, 70)\n",
    "    \n",
    "    # Do an invert binarize the image \n",
    "    ret, mask = cv2.threshold(image_canny_edges, 70, 255, cv2.THRESH_BINARY_INV)\n",
    "    cv2.imshow('Original', image)\n",
    "    cv2.imshow('Our Live Sketcher', mask)\n",
    "    cv2.waitKey(0)\n",
    "    cv2.destroyAllWindows()\n",
    "\n",
    "\n",
    "sketch_image(\"image.jpg\")"
   ]
  },
  {
   "cell_type": "markdown",
   "id": "3ae7ca71",
   "metadata": {},
   "source": [
    "# Sketch on webcam"
   ]
  },
  {
   "cell_type": "code",
   "execution_count": 4,
   "id": "b4313b63",
   "metadata": {},
   "outputs": [],
   "source": [
    "import numpy as np\n",
    "import cv2\n",
    "\n",
    "cap = cv2.VideoCapture(0)\n",
    "while(True):\n",
    "    # Capture frame-by-frame\n",
    "    ret,frame = cap.read()\n",
    "    frame_gray = cv2.cvtColor(frame, cv2.COLOR_BGR2GRAY)\n",
    "    frame_blur = cv2.GaussianBlur(frame_gray, (5,5), 0)\n",
    "    frame_canny_edges = cv2.Canny(frame_blur, 10, 70)\n",
    "    _, mask = cv2.threshold(frame_canny_edges, 70, 255, cv2.THRESH_BINARY_INV)\n",
    "    # Display the resulting frame\n",
    "    cv2.imshow('original frame',frame)\n",
    "    cv2.imshow('canny edge frame',frame_canny_edges)\n",
    "    cv2.imshow('sketch frame',mask)\n",
    "    if cv2.waitKey(25) & 0xFF == ord('q'):\n",
    "        break\n",
    "\n",
    "# When everything done, release the capture\n",
    "cap.release()\n",
    "cv2.destroyAllWindows() "
   ]
  },
  {
   "cell_type": "code",
   "execution_count": null,
   "id": "ca906bba",
   "metadata": {},
   "outputs": [],
   "source": []
  }
 ],
 "metadata": {
  "kernelspec": {
   "display_name": "Python 3",
   "language": "python",
   "name": "python3"
  },
  "language_info": {
   "codemirror_mode": {
    "name": "ipython",
    "version": 3
   },
   "file_extension": ".py",
   "mimetype": "text/x-python",
   "name": "python",
   "nbconvert_exporter": "python",
   "pygments_lexer": "ipython3",
   "version": "3.6.13"
  }
 },
 "nbformat": 4,
 "nbformat_minor": 5
}
